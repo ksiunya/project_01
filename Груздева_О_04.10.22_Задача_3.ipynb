{
  "cells": [
    {
      "cell_type": "code",
      "execution_count": 26,
      "metadata": {
        "colab": {
          "base_uri": "https://localhost:8080/"
        },
        "id": "iGuIYEBStSAs",
        "outputId": "60aaa3e1-2893-4d5d-c8b3-38ec2567adb2"
      },
      "outputs": [
        {
          "name": "stdout",
          "output_type": "stream",
          "text": [
            "['Картофель', 'Горошек', 'Рыба', 'Рис', 'Хлеб']\n",
            "['Картофель', 'Горошек', 'Рыба', 'Рис', 'Хлеб', 'Яблоко', 'Апельсин', 'Клубника']\n",
            "['Горошек', 'Рыба', 'Рис', 'Хлеб', 'Яблоко', 'Апельсин', 'Клубника']\n",
            "Номер Хлебa в списке - 3\n",
            "Номер Апельсинa в списке - 5\n"
          ]
        }
      ],
      "source": [
        "shop_list = ['Картофель', 'Горошек', 'Рис', 'Хлеб']\n",
        "shop_list.insert(2,'Рыба')\n",
        "print(shop_list)\n",
        "fruits = ['Яблоко', 'Апельсин', 'Клубника']\n",
        "shop_list.extend(fruits)\n",
        "print(shop_list)\n",
        "shop_list.remove('Картофель')\n",
        "print(shop_list)\n",
        "print('Номер ' + shop_list[3] + 'a в списке - ' + str(shop_list.index('Хлеб')))\n",
        "print('Номер ' + shop_list[5] + 'a в списке - ' + str(shop_list.index('Апельсин')))"
      ]
    }
  ],
  "metadata": {
    "colab": {
      "collapsed_sections": [],
      "provenance": []
    },
    "kernelspec": {
      "display_name": "Python 3",
      "name": "python3"
    },
    "language_info": {
      "name": "python"
    }
  },
  "nbformat": 4,
  "nbformat_minor": 0
}
