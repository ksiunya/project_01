{
  "cells": [
    {
      "cell_type": "code",
      "execution_count": 31,
      "metadata": {
        "colab": {
          "base_uri": "https://localhost:8080/"
        },
        "id": "V-thtyofAioI",
        "outputId": "5ab4eb1f-98a0-43a3-804d-13ffb6417e55"
      },
      "outputs": [
        {
          "name": "stdout",
          "output_type": "stream",
          "text": [
            "['New Salvation', 4.02] ['A Sorta Fairytale', 5.28] ['Waste a Moment', 3.03]\n",
            "Три песни звучат 12.33 минут\n"
          ]
        }
      ],
      "source": [
        "import random\n",
        "\n",
        "my_favorite_songs = [\n",
        "    ['Waste a Moment', 3.03],\n",
        "    ['New Salvation', 4.02],\n",
        "    ['Staying\\' Alive', 3.40],\n",
        "    ['Out of Touch', 3.03],\n",
        "    ['A Sorta Fairytale', 5.28],\n",
        "    ['Easy', 4.15],\n",
        "    ['Beautiful Day', 4.04],\n",
        "    ['Nowhere to Run', 2.58],\n",
        "    ['In This World', 4.02],\n",
        "]\n",
        "song_1 = random.choice(my_favorite_songs)\n",
        "song_2 = random.choice(my_favorite_songs)\n",
        "song_3 = random.choice(my_favorite_songs)\n",
        "print(song_1,song_2,song_3)\n",
        "\n",
        "print('Три песни звучат ' + str(song_1[1] + song_2[1] + song_3[1]) + ' минут')"
      ]
    },
    {
      "cell_type": "code",
      "execution_count": null,
      "metadata": {},
      "outputs": [],
      "source": [
        "# Отлично!"
      ]
    }
  ],
  "metadata": {
    "colab": {
      "collapsed_sections": [],
      "provenance": []
    },
    "kernelspec": {
      "display_name": "Python 3",
      "name": "python3"
    },
    "language_info": {
      "name": "python"
    }
  },
  "nbformat": 4,
  "nbformat_minor": 0
}
